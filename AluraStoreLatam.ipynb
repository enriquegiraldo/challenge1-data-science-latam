{
  "nbformat": 4,
  "nbformat_minor": 0,
  "metadata": {
    "colab": {
      "provenance": [],
      "include_colab_link": true
    },
    "kernelspec": {
      "name": "python3",
      "display_name": "Python 3"
    },
    "language_info": {
      "name": "python"
    }
  },
  "cells": [
    {
      "cell_type": "markdown",
      "metadata": {
        "id": "view-in-github",
        "colab_type": "text"
      },
      "source": [
        "<a href=\"https://colab.research.google.com/github/enriquegiraldo/challenge1-data-science-latam/blob/main/AluraStoreLatam.ipynb\" target=\"_parent\"><img src=\"https://colab.research.google.com/assets/colab-badge.svg\" alt=\"Open In Colab\"/></a>"
      ]
    },
    {
      "cell_type": "markdown",
      "source": [
        "### Importación de datos\n",
        "\n"
      ],
      "metadata": {
        "id": "RhEdWd9YUR6H"
      }
    },
    {
      "cell_type": "code",
      "execution_count": 1,
      "metadata": {
        "colab": {
          "base_uri": "https://localhost:8080/",
          "height": 206
        },
        "id": "T3EvaeQ_INIL",
        "outputId": "eec94f9d-4337-4e8a-cbb3-7de3e6e19270"
      },
      "outputs": [
        {
          "output_type": "execute_result",
          "data": {
            "text/plain": [
              "            Producto Categoría del Producto    Precio  Costo de envío  \\\n",
              "0  Asistente virtual           Electrónicos  164300.0          6900.0   \n",
              "1    Mesa de comedor                Muebles  192300.0          8400.0   \n",
              "2      Juego de mesa               Juguetes  209600.0         15900.0   \n",
              "3         Microondas      Electrodomésticos  757500.0         41000.0   \n",
              "4   Silla de oficina                Muebles  335200.0         20200.0   \n",
              "\n",
              "  Fecha de Compra         Vendedor Lugar de Compra  Calificación  \\\n",
              "0      16/01/2021      Pedro Gomez          Bogotá             4   \n",
              "1      18/05/2022  Beatriz Morales        Medellín             1   \n",
              "2      15/03/2021   Juan Fernandez       Cartagena             1   \n",
              "3      03/05/2022   Juan Fernandez            Cali             4   \n",
              "4      07/11/2020    Maria Alfonso        Medellín             5   \n",
              "\n",
              "       Método de pago  Cantidad de cuotas       lat       lon  \n",
              "0  Tarjeta de crédito                   8   4.60971 -74.08175  \n",
              "1  Tarjeta de crédito                   4   6.25184 -75.56359  \n",
              "2  Tarjeta de crédito                   1  10.39972 -75.51444  \n",
              "3               Nequi                   1   3.43722 -76.52250  \n",
              "4               Nequi                   1   6.25184 -75.56359  "
            ],
            "text/html": [
              "\n",
              "  <div id=\"df-897714ca-2c7a-45f3-8e67-cdc346cd9d25\" class=\"colab-df-container\">\n",
              "    <div>\n",
              "<style scoped>\n",
              "    .dataframe tbody tr th:only-of-type {\n",
              "        vertical-align: middle;\n",
              "    }\n",
              "\n",
              "    .dataframe tbody tr th {\n",
              "        vertical-align: top;\n",
              "    }\n",
              "\n",
              "    .dataframe thead th {\n",
              "        text-align: right;\n",
              "    }\n",
              "</style>\n",
              "<table border=\"1\" class=\"dataframe\">\n",
              "  <thead>\n",
              "    <tr style=\"text-align: right;\">\n",
              "      <th></th>\n",
              "      <th>Producto</th>\n",
              "      <th>Categoría del Producto</th>\n",
              "      <th>Precio</th>\n",
              "      <th>Costo de envío</th>\n",
              "      <th>Fecha de Compra</th>\n",
              "      <th>Vendedor</th>\n",
              "      <th>Lugar de Compra</th>\n",
              "      <th>Calificación</th>\n",
              "      <th>Método de pago</th>\n",
              "      <th>Cantidad de cuotas</th>\n",
              "      <th>lat</th>\n",
              "      <th>lon</th>\n",
              "    </tr>\n",
              "  </thead>\n",
              "  <tbody>\n",
              "    <tr>\n",
              "      <th>0</th>\n",
              "      <td>Asistente virtual</td>\n",
              "      <td>Electrónicos</td>\n",
              "      <td>164300.0</td>\n",
              "      <td>6900.0</td>\n",
              "      <td>16/01/2021</td>\n",
              "      <td>Pedro Gomez</td>\n",
              "      <td>Bogotá</td>\n",
              "      <td>4</td>\n",
              "      <td>Tarjeta de crédito</td>\n",
              "      <td>8</td>\n",
              "      <td>4.60971</td>\n",
              "      <td>-74.08175</td>\n",
              "    </tr>\n",
              "    <tr>\n",
              "      <th>1</th>\n",
              "      <td>Mesa de comedor</td>\n",
              "      <td>Muebles</td>\n",
              "      <td>192300.0</td>\n",
              "      <td>8400.0</td>\n",
              "      <td>18/05/2022</td>\n",
              "      <td>Beatriz Morales</td>\n",
              "      <td>Medellín</td>\n",
              "      <td>1</td>\n",
              "      <td>Tarjeta de crédito</td>\n",
              "      <td>4</td>\n",
              "      <td>6.25184</td>\n",
              "      <td>-75.56359</td>\n",
              "    </tr>\n",
              "    <tr>\n",
              "      <th>2</th>\n",
              "      <td>Juego de mesa</td>\n",
              "      <td>Juguetes</td>\n",
              "      <td>209600.0</td>\n",
              "      <td>15900.0</td>\n",
              "      <td>15/03/2021</td>\n",
              "      <td>Juan Fernandez</td>\n",
              "      <td>Cartagena</td>\n",
              "      <td>1</td>\n",
              "      <td>Tarjeta de crédito</td>\n",
              "      <td>1</td>\n",
              "      <td>10.39972</td>\n",
              "      <td>-75.51444</td>\n",
              "    </tr>\n",
              "    <tr>\n",
              "      <th>3</th>\n",
              "      <td>Microondas</td>\n",
              "      <td>Electrodomésticos</td>\n",
              "      <td>757500.0</td>\n",
              "      <td>41000.0</td>\n",
              "      <td>03/05/2022</td>\n",
              "      <td>Juan Fernandez</td>\n",
              "      <td>Cali</td>\n",
              "      <td>4</td>\n",
              "      <td>Nequi</td>\n",
              "      <td>1</td>\n",
              "      <td>3.43722</td>\n",
              "      <td>-76.52250</td>\n",
              "    </tr>\n",
              "    <tr>\n",
              "      <th>4</th>\n",
              "      <td>Silla de oficina</td>\n",
              "      <td>Muebles</td>\n",
              "      <td>335200.0</td>\n",
              "      <td>20200.0</td>\n",
              "      <td>07/11/2020</td>\n",
              "      <td>Maria Alfonso</td>\n",
              "      <td>Medellín</td>\n",
              "      <td>5</td>\n",
              "      <td>Nequi</td>\n",
              "      <td>1</td>\n",
              "      <td>6.25184</td>\n",
              "      <td>-75.56359</td>\n",
              "    </tr>\n",
              "  </tbody>\n",
              "</table>\n",
              "</div>\n",
              "    <div class=\"colab-df-buttons\">\n",
              "\n",
              "  <div class=\"colab-df-container\">\n",
              "    <button class=\"colab-df-convert\" onclick=\"convertToInteractive('df-897714ca-2c7a-45f3-8e67-cdc346cd9d25')\"\n",
              "            title=\"Convert this dataframe to an interactive table.\"\n",
              "            style=\"display:none;\">\n",
              "\n",
              "  <svg xmlns=\"http://www.w3.org/2000/svg\" height=\"24px\" viewBox=\"0 -960 960 960\">\n",
              "    <path d=\"M120-120v-720h720v720H120Zm60-500h600v-160H180v160Zm220 220h160v-160H400v160Zm0 220h160v-160H400v160ZM180-400h160v-160H180v160Zm440 0h160v-160H620v160ZM180-180h160v-160H180v160Zm440 0h160v-160H620v160Z\"/>\n",
              "  </svg>\n",
              "    </button>\n",
              "\n",
              "  <style>\n",
              "    .colab-df-container {\n",
              "      display:flex;\n",
              "      gap: 12px;\n",
              "    }\n",
              "\n",
              "    .colab-df-convert {\n",
              "      background-color: #E8F0FE;\n",
              "      border: none;\n",
              "      border-radius: 50%;\n",
              "      cursor: pointer;\n",
              "      display: none;\n",
              "      fill: #1967D2;\n",
              "      height: 32px;\n",
              "      padding: 0 0 0 0;\n",
              "      width: 32px;\n",
              "    }\n",
              "\n",
              "    .colab-df-convert:hover {\n",
              "      background-color: #E2EBFA;\n",
              "      box-shadow: 0px 1px 2px rgba(60, 64, 67, 0.3), 0px 1px 3px 1px rgba(60, 64, 67, 0.15);\n",
              "      fill: #174EA6;\n",
              "    }\n",
              "\n",
              "    .colab-df-buttons div {\n",
              "      margin-bottom: 4px;\n",
              "    }\n",
              "\n",
              "    [theme=dark] .colab-df-convert {\n",
              "      background-color: #3B4455;\n",
              "      fill: #D2E3FC;\n",
              "    }\n",
              "\n",
              "    [theme=dark] .colab-df-convert:hover {\n",
              "      background-color: #434B5C;\n",
              "      box-shadow: 0px 1px 3px 1px rgba(0, 0, 0, 0.15);\n",
              "      filter: drop-shadow(0px 1px 2px rgba(0, 0, 0, 0.3));\n",
              "      fill: #FFFFFF;\n",
              "    }\n",
              "  </style>\n",
              "\n",
              "    <script>\n",
              "      const buttonEl =\n",
              "        document.querySelector('#df-897714ca-2c7a-45f3-8e67-cdc346cd9d25 button.colab-df-convert');\n",
              "      buttonEl.style.display =\n",
              "        google.colab.kernel.accessAllowed ? 'block' : 'none';\n",
              "\n",
              "      async function convertToInteractive(key) {\n",
              "        const element = document.querySelector('#df-897714ca-2c7a-45f3-8e67-cdc346cd9d25');\n",
              "        const dataTable =\n",
              "          await google.colab.kernel.invokeFunction('convertToInteractive',\n",
              "                                                    [key], {});\n",
              "        if (!dataTable) return;\n",
              "\n",
              "        const docLinkHtml = 'Like what you see? Visit the ' +\n",
              "          '<a target=\"_blank\" href=https://colab.research.google.com/notebooks/data_table.ipynb>data table notebook</a>'\n",
              "          + ' to learn more about interactive tables.';\n",
              "        element.innerHTML = '';\n",
              "        dataTable['output_type'] = 'display_data';\n",
              "        await google.colab.output.renderOutput(dataTable, element);\n",
              "        const docLink = document.createElement('div');\n",
              "        docLink.innerHTML = docLinkHtml;\n",
              "        element.appendChild(docLink);\n",
              "      }\n",
              "    </script>\n",
              "  </div>\n",
              "\n",
              "\n",
              "<div id=\"df-44633446-4ef6-47ec-91a2-3b1a1f335efc\">\n",
              "  <button class=\"colab-df-quickchart\" onclick=\"quickchart('df-44633446-4ef6-47ec-91a2-3b1a1f335efc')\"\n",
              "            title=\"Suggest charts\"\n",
              "            style=\"display:none;\">\n",
              "\n",
              "<svg xmlns=\"http://www.w3.org/2000/svg\" height=\"24px\"viewBox=\"0 0 24 24\"\n",
              "     width=\"24px\">\n",
              "    <g>\n",
              "        <path d=\"M19 3H5c-1.1 0-2 .9-2 2v14c0 1.1.9 2 2 2h14c1.1 0 2-.9 2-2V5c0-1.1-.9-2-2-2zM9 17H7v-7h2v7zm4 0h-2V7h2v10zm4 0h-2v-4h2v4z\"/>\n",
              "    </g>\n",
              "</svg>\n",
              "  </button>\n",
              "\n",
              "<style>\n",
              "  .colab-df-quickchart {\n",
              "      --bg-color: #E8F0FE;\n",
              "      --fill-color: #1967D2;\n",
              "      --hover-bg-color: #E2EBFA;\n",
              "      --hover-fill-color: #174EA6;\n",
              "      --disabled-fill-color: #AAA;\n",
              "      --disabled-bg-color: #DDD;\n",
              "  }\n",
              "\n",
              "  [theme=dark] .colab-df-quickchart {\n",
              "      --bg-color: #3B4455;\n",
              "      --fill-color: #D2E3FC;\n",
              "      --hover-bg-color: #434B5C;\n",
              "      --hover-fill-color: #FFFFFF;\n",
              "      --disabled-bg-color: #3B4455;\n",
              "      --disabled-fill-color: #666;\n",
              "  }\n",
              "\n",
              "  .colab-df-quickchart {\n",
              "    background-color: var(--bg-color);\n",
              "    border: none;\n",
              "    border-radius: 50%;\n",
              "    cursor: pointer;\n",
              "    display: none;\n",
              "    fill: var(--fill-color);\n",
              "    height: 32px;\n",
              "    padding: 0;\n",
              "    width: 32px;\n",
              "  }\n",
              "\n",
              "  .colab-df-quickchart:hover {\n",
              "    background-color: var(--hover-bg-color);\n",
              "    box-shadow: 0 1px 2px rgba(60, 64, 67, 0.3), 0 1px 3px 1px rgba(60, 64, 67, 0.15);\n",
              "    fill: var(--button-hover-fill-color);\n",
              "  }\n",
              "\n",
              "  .colab-df-quickchart-complete:disabled,\n",
              "  .colab-df-quickchart-complete:disabled:hover {\n",
              "    background-color: var(--disabled-bg-color);\n",
              "    fill: var(--disabled-fill-color);\n",
              "    box-shadow: none;\n",
              "  }\n",
              "\n",
              "  .colab-df-spinner {\n",
              "    border: 2px solid var(--fill-color);\n",
              "    border-color: transparent;\n",
              "    border-bottom-color: var(--fill-color);\n",
              "    animation:\n",
              "      spin 1s steps(1) infinite;\n",
              "  }\n",
              "\n",
              "  @keyframes spin {\n",
              "    0% {\n",
              "      border-color: transparent;\n",
              "      border-bottom-color: var(--fill-color);\n",
              "      border-left-color: var(--fill-color);\n",
              "    }\n",
              "    20% {\n",
              "      border-color: transparent;\n",
              "      border-left-color: var(--fill-color);\n",
              "      border-top-color: var(--fill-color);\n",
              "    }\n",
              "    30% {\n",
              "      border-color: transparent;\n",
              "      border-left-color: var(--fill-color);\n",
              "      border-top-color: var(--fill-color);\n",
              "      border-right-color: var(--fill-color);\n",
              "    }\n",
              "    40% {\n",
              "      border-color: transparent;\n",
              "      border-right-color: var(--fill-color);\n",
              "      border-top-color: var(--fill-color);\n",
              "    }\n",
              "    60% {\n",
              "      border-color: transparent;\n",
              "      border-right-color: var(--fill-color);\n",
              "    }\n",
              "    80% {\n",
              "      border-color: transparent;\n",
              "      border-right-color: var(--fill-color);\n",
              "      border-bottom-color: var(--fill-color);\n",
              "    }\n",
              "    90% {\n",
              "      border-color: transparent;\n",
              "      border-bottom-color: var(--fill-color);\n",
              "    }\n",
              "  }\n",
              "</style>\n",
              "\n",
              "  <script>\n",
              "    async function quickchart(key) {\n",
              "      const quickchartButtonEl =\n",
              "        document.querySelector('#' + key + ' button');\n",
              "      quickchartButtonEl.disabled = true;  // To prevent multiple clicks.\n",
              "      quickchartButtonEl.classList.add('colab-df-spinner');\n",
              "      try {\n",
              "        const charts = await google.colab.kernel.invokeFunction(\n",
              "            'suggestCharts', [key], {});\n",
              "      } catch (error) {\n",
              "        console.error('Error during call to suggestCharts:', error);\n",
              "      }\n",
              "      quickchartButtonEl.classList.remove('colab-df-spinner');\n",
              "      quickchartButtonEl.classList.add('colab-df-quickchart-complete');\n",
              "    }\n",
              "    (() => {\n",
              "      let quickchartButtonEl =\n",
              "        document.querySelector('#df-44633446-4ef6-47ec-91a2-3b1a1f335efc button');\n",
              "      quickchartButtonEl.style.display =\n",
              "        google.colab.kernel.accessAllowed ? 'block' : 'none';\n",
              "    })();\n",
              "  </script>\n",
              "</div>\n",
              "\n",
              "    </div>\n",
              "  </div>\n"
            ],
            "application/vnd.google.colaboratory.intrinsic+json": {
              "type": "dataframe",
              "variable_name": "tienda",
              "summary": "{\n  \"name\": \"tienda\",\n  \"rows\": 2359,\n  \"fields\": [\n    {\n      \"column\": \"Producto\",\n      \"properties\": {\n        \"dtype\": \"category\",\n        \"num_unique_values\": 51,\n        \"samples\": [\n          \"Guitarra ac\\u00fastica\",\n          \"Bal\\u00f3n de baloncesto\",\n          \"Smartwatch\"\n        ],\n        \"semantic_type\": \"\",\n        \"description\": \"\"\n      }\n    },\n    {\n      \"column\": \"Categor\\u00eda del Producto\",\n      \"properties\": {\n        \"dtype\": \"category\",\n        \"num_unique_values\": 8,\n        \"samples\": [\n          \"Muebles\",\n          \"Deportes y diversi\\u00f3n\",\n          \"Electr\\u00f3nicos\"\n        ],\n        \"semantic_type\": \"\",\n        \"description\": \"\"\n      }\n    },\n    {\n      \"column\": \"Precio\",\n      \"properties\": {\n        \"dtype\": \"number\",\n        \"std\": 614686.7653873172,\n        \"min\": 7600.0,\n        \"max\": 2977000.0,\n        \"num_unique_values\": 1937,\n        \"samples\": [\n          2499400.0,\n          14800.0,\n          80500.0\n        ],\n        \"semantic_type\": \"\",\n        \"description\": \"\"\n      }\n    },\n    {\n      \"column\": \"Costo de env\\u00edo\",\n      \"properties\": {\n        \"dtype\": \"number\",\n        \"std\": 32860.0017825605,\n        \"min\": 0.0,\n        \"max\": 160800.0,\n        \"num_unique_values\": 753,\n        \"samples\": [\n          117800.0,\n          54700.0,\n          45600.0\n        ],\n        \"semantic_type\": \"\",\n        \"description\": \"\"\n      }\n    },\n    {\n      \"column\": \"Fecha de Compra\",\n      \"properties\": {\n        \"dtype\": \"object\",\n        \"num_unique_values\": 1018,\n        \"samples\": [\n          \"15/09/2022\",\n          \"03/06/2020\",\n          \"06/11/2021\"\n        ],\n        \"semantic_type\": \"\",\n        \"description\": \"\"\n      }\n    },\n    {\n      \"column\": \"Vendedor\",\n      \"properties\": {\n        \"dtype\": \"category\",\n        \"num_unique_values\": 14,\n        \"samples\": [\n          \"Juliana Costa\",\n          \"Mariana Herrera\",\n          \"Pedro Gomez\"\n        ],\n        \"semantic_type\": \"\",\n        \"description\": \"\"\n      }\n    },\n    {\n      \"column\": \"Lugar de Compra\",\n      \"properties\": {\n        \"dtype\": \"category\",\n        \"num_unique_values\": 19,\n        \"samples\": [\n          \"Bogot\\u00e1\",\n          \"Pereira\",\n          \"Neiva\"\n        ],\n        \"semantic_type\": \"\",\n        \"description\": \"\"\n      }\n    },\n    {\n      \"column\": \"Calificaci\\u00f3n\",\n      \"properties\": {\n        \"dtype\": \"number\",\n        \"std\": 1,\n        \"min\": 1,\n        \"max\": 5,\n        \"num_unique_values\": 5,\n        \"samples\": [\n          1,\n          2,\n          5\n        ],\n        \"semantic_type\": \"\",\n        \"description\": \"\"\n      }\n    },\n    {\n      \"column\": \"M\\u00e9todo de pago\",\n      \"properties\": {\n        \"dtype\": \"category\",\n        \"num_unique_values\": 4,\n        \"samples\": [\n          \"Nequi\",\n          \"Tarjeta de d\\u00e9bito\",\n          \"Tarjeta de cr\\u00e9dito\"\n        ],\n        \"semantic_type\": \"\",\n        \"description\": \"\"\n      }\n    },\n    {\n      \"column\": \"Cantidad de cuotas\",\n      \"properties\": {\n        \"dtype\": \"number\",\n        \"std\": 2,\n        \"min\": 1,\n        \"max\": 24,\n        \"num_unique_values\": 15,\n        \"samples\": [\n          7,\n          14,\n          8\n        ],\n        \"semantic_type\": \"\",\n        \"description\": \"\"\n      }\n    },\n    {\n      \"column\": \"lat\",\n      \"properties\": {\n        \"dtype\": \"number\",\n        \"std\": 2.2874452492678627,\n        \"min\": -4.21528,\n        \"max\": 11.54444,\n        \"num_unique_values\": 19,\n        \"samples\": [\n          4.60971,\n          4.81333,\n          2.9273\n        ],\n        \"semantic_type\": \"\",\n        \"description\": \"\"\n      }\n    },\n    {\n      \"column\": \"lon\",\n      \"properties\": {\n        \"dtype\": \"number\",\n        \"std\": 1.2178272727088486,\n        \"min\": -77.28111,\n        \"max\": -67.9239,\n        \"num_unique_values\": 19,\n        \"samples\": [\n          -74.08175,\n          -75.69611,\n          -75.28189\n        ],\n        \"semantic_type\": \"\",\n        \"description\": \"\"\n      }\n    }\n  ]\n}"
            }
          },
          "metadata": {},
          "execution_count": 1
        }
      ],
      "source": [
        "import pandas as pd\n",
        "import matplotlib.pyplot as plt\n",
        "import seaborn as sns\n",
        "\n",
        "\n",
        "url = \"https://raw.githubusercontent.com/alura-es-cursos/challenge1-data-science-latam/refs/heads/main/base-de-datos-challenge1-latam/tienda_1%20.csv\"\n",
        "url2 = \"https://raw.githubusercontent.com/alura-es-cursos/challenge1-data-science-latam/refs/heads/main/base-de-datos-challenge1-latam/tienda_2.csv\"\n",
        "url3 = \"https://raw.githubusercontent.com/alura-es-cursos/challenge1-data-science-latam/refs/heads/main/base-de-datos-challenge1-latam/tienda_3.csv\"\n",
        "url4 = \"https://raw.githubusercontent.com/alura-es-cursos/challenge1-data-science-latam/refs/heads/main/base-de-datos-challenge1-latam/tienda_4.csv\"\n",
        "\n",
        "tienda = pd.read_csv(url)\n",
        "tienda2 = pd.read_csv(url2)\n",
        "tienda3 = pd.read_csv(url3)\n",
        "tienda4 = pd.read_csv(url4)\n",
        "\n",
        "tienda.head()"
      ]
    },
    {
      "cell_type": "code",
      "source": [
        "# --- Celda para Unificar DataFrames ---\n",
        "print(\"--- Unificando DataFrames y añadiendo columna 'Tienda' ---\")\n",
        "\n",
        "# Añadir una columna para identificar cada tienda\n",
        "tienda['Tienda'] = 'Tienda 1'\n",
        "tienda2['Tienda'] = 'Tienda 2'\n",
        "tienda3['Tienda'] = 'Tienda 3'\n",
        "tienda4['Tienda'] = 'Tienda 4'\n",
        "\n",
        "# Unir todos los datos en un solo DataFrame llamado 'datos'\n",
        "datos = pd.concat([tienda, tienda2, tienda3, tienda4], ignore_index=True) # ¡Aquí se crea 'datos'!\n",
        "\n",
        "print(\"DataFrames unificados en el DataFrame 'datos'.\")\n",
        "print(f\"Total de registros en 'datos': {len(datos)}\")\n",
        "print(datos.head())\n",
        "print(\"-\" * 50)"
      ],
      "metadata": {
        "colab": {
          "base_uri": "https://localhost:8080/"
        },
        "id": "Dw37NdpDaqg_",
        "outputId": "407482e1-da25-4263-a5e6-c8b55a7b217f"
      },
      "execution_count": 10,
      "outputs": [
        {
          "output_type": "stream",
          "name": "stdout",
          "text": [
            "--- Unificando DataFrames y añadiendo columna 'Tienda' ---\n",
            "DataFrames unificados en el DataFrame 'datos'.\n",
            "Total de registros en 'datos': 9435\n",
            "            Producto Categoría del Producto    Precio  Costo de envío  \\\n",
            "0  Asistente virtual           Electrónicos  164300.0          6900.0   \n",
            "1    Mesa de comedor                Muebles  192300.0          8400.0   \n",
            "2      Juego de mesa               Juguetes  209600.0         15900.0   \n",
            "3         Microondas      Electrodomésticos  757500.0         41000.0   \n",
            "4   Silla de oficina                Muebles  335200.0         20200.0   \n",
            "\n",
            "  Fecha de Compra         Vendedor Lugar de Compra  Calificación  \\\n",
            "0      16/01/2021      Pedro Gomez          Bogotá             4   \n",
            "1      18/05/2022  Beatriz Morales        Medellín             1   \n",
            "2      15/03/2021   Juan Fernandez       Cartagena             1   \n",
            "3      03/05/2022   Juan Fernandez            Cali             4   \n",
            "4      07/11/2020    Maria Alfonso        Medellín             5   \n",
            "\n",
            "       Método de pago  Cantidad de cuotas       lat       lon    Tienda  \n",
            "0  Tarjeta de crédito                   8   4.60971 -74.08175  Tienda 1  \n",
            "1  Tarjeta de crédito                   4   6.25184 -75.56359  Tienda 1  \n",
            "2  Tarjeta de crédito                   1  10.39972 -75.51444  Tienda 1  \n",
            "3               Nequi                   1   3.43722 -76.52250  Tienda 1  \n",
            "4               Nequi                   1   6.25184 -75.56359  Tienda 1  \n",
            "--------------------------------------------------\n"
          ]
        }
      ]
    },
    {
      "cell_type": "markdown",
      "source": [
        "#1. Análisis de facturación\n",
        "\n"
      ],
      "metadata": {
        "id": "X62IW3KFUIYm"
      }
    },
    {
      "cell_type": "code",
      "source": [
        "# --- Paso 2: Calculando Facturación Total por Tienda ---\n",
        "print(\"\\n--- Paso 2: Calculando Facturación Total por Tienda ---\")\n",
        "\n",
        "# Importar bibliotecas de visualización (si no lo has hecho antes)\n",
        "import matplotlib.pyplot as plt\n",
        "import seaborn as sns\n",
        "\n",
        "# Ejemplo: datos['Precio'] = pd.to_numeric(datos['Precio'], errors='coerce')\n",
        "facturacion = datos.groupby('Tienda')['Precio'].sum().reset_index().sort_values(by='Precio', ascending=False)\n",
        "print(\"Facturación Total por Tienda:\")\n",
        "print(facturacion)\n",
        "\n",
        "# Visualización\n",
        "plt.figure(figsize=(10, 6))\n",
        "sns.barplot(x='Tienda', y='Precio', data=facturacion, palette='viridis')\n",
        "plt.title('Facturación Total (Suma de Precios) por Tienda')\n",
        "plt.xlabel('Tienda')\n",
        "plt.ylabel('Facturación Total ($)')\n",
        "plt.xticks(rotation=45)\n",
        "plt.tight_layout()\n",
        "plt.show()\n",
        "print(\"-\" * 50)"
      ],
      "metadata": {
        "id": "xykobSftV64I",
        "colab": {
          "base_uri": "https://localhost:8080/",
          "height": 850
        },
        "outputId": "2fe5327f-6c9c-4b01-a3f0-16cb8d09bf48"
      },
      "execution_count": 11,
      "outputs": [
        {
          "output_type": "stream",
          "name": "stdout",
          "text": [
            "\n",
            "--- Paso 2: Calculando Facturación Total por Tienda ---\n",
            "Facturación Total por Tienda:\n",
            "     Tienda        Precio\n",
            "0  Tienda 1  1.150880e+09\n",
            "1  Tienda 2  1.116344e+09\n",
            "2  Tienda 3  1.098020e+09\n",
            "3  Tienda 4  1.038376e+09\n"
          ]
        },
        {
          "output_type": "stream",
          "name": "stderr",
          "text": [
            "<ipython-input-11-b184e081dc74>:15: FutureWarning: \n",
            "\n",
            "Passing `palette` without assigning `hue` is deprecated and will be removed in v0.14.0. Assign the `x` variable to `hue` and set `legend=False` for the same effect.\n",
            "\n",
            "  sns.barplot(x='Tienda', y='Precio', data=facturacion, palette='viridis')\n"
          ]
        },
        {
          "output_type": "display_data",
          "data": {
            "text/plain": [
              "<Figure size 1000x600 with 1 Axes>"
            ],
            "image/png": "[encoded data removed]"
          },
          "metadata": {}
        },
        {
          "output_type": "stream",
          "name": "stdout",
          "text": [
            "--------------------------------------------------\n"
          ]
        }
      ]
    },
    {
      "cell_type": "code",
      "source": [],
      "metadata": {
        "id": "KDyr8E71V3m-"
      },
      "execution_count": null,
      "outputs": []
    },
    {
      "cell_type": "markdown",
      "source": [
        "# 2. Ventas por categoría"
      ],
      "metadata": {
        "id": "2V_vcAPzWZmR"
      }
    },
    {
      "cell_type": "code",
      "source": [
        "# --- Paso 3: Analizando Ventas por Categoría (Cantidad) ---\n",
        "print(\"\\n--- Paso 3: Analizando Ventas por Categoría (Cantidad) ---\")\n",
        "ventas_categoria = datos.groupby(['Tienda', 'Categoría del Producto']).size().reset_index(name='Numero_Ventas')\n",
        "\n",
        "# Categorías más populares (Top 3) por tienda\n",
        "top_n = 3\n",
        "categorias_top = ventas_categoria.sort_values(by='Numero_Ventas', ascending=False)\\\n",
        "                                .groupby('Tienda')\\\n",
        "                                .head(top_n)\n",
        "print(f\"\\nTop {top_n} Categorías más populares por tienda (por número de ventas):\")\n",
        "print(categorias_top)\n",
        "\n",
        "# Visualización\n",
        "plt.figure(figsize=(12, 7))\n",
        "sns.barplot(x='Tienda', y='Numero_Ventas', hue='Categoría del Producto', data=categorias_top, palette='Spectral')\n",
        "plt.title(f'Top {top_n} Categorías Populares por Tienda (Cantidad de Ventas)')\n",
        "plt.xlabel('Tienda')\n",
        "plt.ylabel('Número de Ventas')\n",
        "plt.xticks(rotation=45)\n",
        "plt.legend(title='Categoría', bbox_to_anchor=(1.05, 1), loc='upper left')\n",
        "plt.tight_layout()\n",
        "plt.show()\n",
        "print(\"-\" * 50)"
      ],
      "metadata": {
        "id": "A34YupIuYhfF",
        "colab": {
          "base_uri": "https://localhost:8080/",
          "height": 1000
        },
        "outputId": "531c42e1-8bb0-4267-e4cc-e58d5e997cba"
      },
      "execution_count": 12,
      "outputs": [
        {
          "output_type": "stream",
          "name": "stdout",
          "text": [
            "\n",
            "--- Paso 3: Analizando Ventas por Categoría (Cantidad) ---\n",
            "\n",
            "Top 3 Categorías más populares por tienda (por número de ventas):\n",
            "      Tienda Categoría del Producto  Numero_Ventas\n",
            "23  Tienda 3                Muebles            499\n",
            "31  Tienda 4                Muebles            480\n",
            "7   Tienda 1                Muebles            465\n",
            "27  Tienda 4           Electrónicos            451\n",
            "19  Tienda 3           Electrónicos            451\n",
            "3   Tienda 1           Electrónicos            448\n",
            "15  Tienda 2                Muebles            442\n",
            "11  Tienda 2           Electrónicos            422\n",
            "29  Tienda 4               Juguetes            338\n",
            "5   Tienda 1               Juguetes            324\n",
            "21  Tienda 3               Juguetes            315\n",
            "13  Tienda 2               Juguetes            313\n"
          ]
        },
        {
          "output_type": "display_data",
          "data": {
            "text/plain": [
              "<Figure size 1200x700 with 1 Axes>"
            ],
            "image/png": "[encoded data removed]"
          },
          "metadata": {}
        },
        {
          "output_type": "stream",
          "name": "stdout",
          "text": [
            "--------------------------------------------------\n"
          ]
        }
      ]
    },
    {
      "cell_type": "code",
      "source": [],
      "metadata": {
        "id": "yZR6cOjXYSk1"
      },
      "execution_count": null,
      "outputs": []
    },
    {
      "cell_type": "markdown",
      "source": [
        "# 3. Calificación promedio de la tienda\n"
      ],
      "metadata": {
        "id": "Rq6tU_xSY3jk"
      }
    },
    {
      "cell_type": "code",
      "source": [
        "# --- Paso 4: Calculando Calificación Promedio por Tienda ---\n",
        "print(\"\\n--- Paso 4: Calculando Calificación Promedio por Tienda ---\")\n",
        "\n",
        "# Ejemplo: datos['Calificación'] = pd.to_numeric(datos['Calificación'], errors='coerce')\n",
        "calificaciones_promedio = datos.groupby('Tienda')['Calificación'].mean().reset_index().sort_values(by='Calificación', ascending=False)\n",
        "print(\"Calificación Promedio por Tienda:\")\n",
        "print(calificaciones_promedio)\n",
        "\n",
        "# Visualización\n",
        "plt.figure(figsize=(10, 6))\n",
        "sns.barplot(x='Tienda', y='Calificación', data=calificaciones_promedio, palette='coolwarm')\n",
        "plt.title('Calificación Promedio por Tienda')\n",
        "plt.xlabel('Tienda')\n",
        "plt.ylabel('Calificación Promedio')\n",
        "# plt.ylim(0, 5) # Ajusta si tu escala es diferente (parece ser 1-5 según los datos)\n",
        "plt.xticks(rotation=45)\n",
        "plt.tight_layout()\n",
        "plt.show()\n",
        "print(\"-\" * 50)"
      ],
      "metadata": {
        "id": "bh3jjjJwY5MU",
        "colab": {
          "base_uri": "https://localhost:8080/",
          "height": 850
        },
        "outputId": "ef1e98d5-db5a-47d9-f8e9-16bef7e6ff6a"
      },
      "execution_count": 13,
      "outputs": [
        {
          "output_type": "stream",
          "name": "stdout",
          "text": [
            "\n",
            "--- Paso 4: Calculando Calificación Promedio por Tienda ---\n",
            "Calificación Promedio por Tienda:\n",
            "     Tienda  Calificación\n",
            "2  Tienda 3      4.048326\n",
            "1  Tienda 2      4.037304\n",
            "3  Tienda 4      3.995759\n",
            "0  Tienda 1      3.976685\n"
          ]
        },
        {
          "output_type": "stream",
          "name": "stderr",
          "text": [
            "<ipython-input-13-0fcb69ed8ce8>:11: FutureWarning: \n",
            "\n",
            "Passing `palette` without assigning `hue` is deprecated and will be removed in v0.14.0. Assign the `x` variable to `hue` and set `legend=False` for the same effect.\n",
            "\n",
            "  sns.barplot(x='Tienda', y='Calificación', data=calificaciones_promedio, palette='coolwarm')\n"
          ]
        },
        {
          "output_type": "display_data",
          "data": {
            "text/plain": [
              "<Figure size 1000x600 with 1 Axes>"
            ],
            "image/png": "[encoded data removed]"
          },
          "metadata": {}
        },
        {
          "output_type": "stream",
          "name": "stdout",
          "text": [
            "--------------------------------------------------\n"
          ]
        }
      ]
    },
    {
      "cell_type": "code",
      "source": [],
      "metadata": {
        "id": "I0KkjPoTY88F"
      },
      "execution_count": null,
      "outputs": []
    },
    {
      "cell_type": "markdown",
      "source": [
        "# 4. Productos más y menos vendidos"
      ],
      "metadata": {
        "id": "DmNp1KPBZCm-"
      }
    },
    {
      "cell_type": "code",
      "source": [
        "# --- Paso 5: Identificando Productos Más y Menos Vendidos (Cantidad) ---\n",
        "print(\"\\n--- Paso 5: Identificando Productos Más y Menos Vendidos (Cantidad) ---\")\n",
        "ventas_producto = datos.groupby(['Tienda', 'Producto']).size().reset_index(name='Numero_Ventas')\n",
        "\n",
        "# Producto más vendido por tienda\n",
        "idx_mas_vendidos = ventas_producto.groupby('Tienda')['Numero_Ventas'].idxmax()\n",
        "mas_vendidos = ventas_producto.loc[idx_mas_vendidos]\n",
        "\n",
        "# Producto menos vendido por tienda\n",
        "idx_menos_vendidos = ventas_producto.groupby('Tienda')['Numero_Ventas'].idxmin()\n",
        "menos_vendidos = ventas_producto.loc[idx_menos_vendidos]\n",
        "\n",
        "print(\"\\nProducto MÁS vendido por tienda (por número de ventas):\")\n",
        "print(mas_vendidos)\n",
        "print(\"\\nProducto MENOS vendido por tienda (por número de ventas):\")\n",
        "print(menos_vendidos)\n",
        "# Nota: Para este análisis, las tablas suelen ser más claras que un gráfico complejo.\n",
        "print(\"-\" * 50)"
      ],
      "metadata": {
        "id": "qoyjqijQZHfF",
        "colab": {
          "base_uri": "https://localhost:8080/"
        },
        "outputId": "4ca8b875-462c-4ab9-8ec1-f79083353ab1"
      },
      "execution_count": 14,
      "outputs": [
        {
          "output_type": "stream",
          "name": "stdout",
          "text": [
            "\n",
            "--- Paso 5: Identificando Productos Más y Menos Vendidos (Cantidad) ---\n",
            "\n",
            "Producto MÁS vendido por tienda (por número de ventas):\n",
            "       Tienda                   Producto  Numero_Ventas\n",
            "1    Tienda 1                    Armario             60\n",
            "75   Tienda 2  Iniciando en programación             65\n",
            "129  Tienda 3              Kit de bancas             57\n",
            "163  Tienda 4                   Cama box             62\n",
            "\n",
            "Producto MENOS vendido por tienda (por número de ventas):\n",
            "       Tienda                   Producto  Numero_Ventas\n",
            "4    Tienda 1  Auriculares con micrófono             33\n",
            "77   Tienda 2              Juego de mesa             32\n",
            "111  Tienda 3    Bloques de construcción             35\n",
            "175  Tienda 4         Guitarra eléctrica             33\n",
            "--------------------------------------------------\n"
          ]
        }
      ]
    },
    {
      "cell_type": "code",
      "source": [],
      "metadata": {
        "id": "0Sw3sd4IZIGW"
      },
      "execution_count": null,
      "outputs": []
    },
    {
      "cell_type": "markdown",
      "source": [
        "# 5. Envío promedio por tienda"
      ],
      "metadata": {
        "id": "Fl0cGi3bZKqU"
      }
    },
    {
      "cell_type": "code",
      "source": [
        "# --- Paso 6: Calculando Costo Promedio de Envío por Tienda ---\n",
        "print(\"\\n--- Paso 6: Calculando Costo Promedio de Envío por Tienda ---\")\n",
        "# Asegurarse de que 'Costo de envío' sea numérico\n",
        "# (Si ya lo hiciste en una celda anterior, esta línea se puede comentar o eliminar)\n",
        "# datos['Costo de envío'] = pd.to_numeric(datos['Costo de envío'], errors='coerce')\n",
        "costo_envio_promedio = datos.groupby('Tienda')['Costo de envío'].mean().reset_index().sort_values(by='Costo de envío', ascending=True)\n",
        "print(\"Costo Promedio de Envío por Tienda:\")\n",
        "print(costo_envio_promedio)\n",
        "\n",
        "# Visualización (Asegúrate de tener matplotlib y seaborn importados)\n",
        "# import matplotlib.pyplot as plt\n",
        "# import seaborn as sns\n",
        "plt.figure(figsize=(10, 6))\n",
        "sns.barplot(x='Tienda', y='Costo de envío', data=costo_envio_promedio, palette='magma')\n",
        "plt.title('Costo Promedio de Envío por Tienda')\n",
        "plt.xlabel('Tienda')\n",
        "plt.ylabel('Costo Promedio de Envío ($)')\n",
        "plt.xticks(rotation=45)\n",
        "plt.tight_layout()\n",
        "plt.show()\n",
        "print(\"-\" * 50)\n",
        "\n",
        "# --- Paso 7: Creando Tabla Resumen para Recomendación ---\n",
        "print(\"\\n--- Paso 7: Creando Tabla Resumen para Recomendación ---\")\n",
        "\n",
        "# Calcular métricas si no están definidas globalmente (asegúrate de que 'datos' exista)\n",
        "# Si 'facturacion' y 'calificaciones_promedio' ya existen por celdas anteriores, puedes comentar estas líneas\n",
        "facturacion = datos.groupby('Tienda')['Precio'].sum().reset_index()\n",
        "calificaciones_promedio = datos.groupby('Tienda')['Calificación'].mean().reset_index()\n",
        "\n",
        "# Combinar las métricas en una tabla resumen\n",
        "# (Asegúrate de que 'costo_envio_promedio' también exista o calcúlalo aquí si es necesario)\n",
        "resumen = facturacion.merge(calificaciones_promedio, on='Tienda')\\\n",
        "                     .merge(costo_envio_promedio, on='Tienda')\n",
        "\n",
        "# Renombrar columnas para claridad\n",
        "resumen.rename(columns={'Precio': 'Facturacion_Total',\n",
        "                         'Calificación': 'Calificacion_Promedio',\n",
        "                         'Costo de envío': 'Costo_Envio_Promedio'}, inplace=True)\n",
        "\n",
        "print(\"Tabla Resumen de Métricas Clave por Tienda:\")\n",
        "print(resumen) # Imprime la tabla resumen que creaste\n",
        "print(\"-\" * 50)\n",
        "\n",
        "# --- Recomendación Final ---\n",
        "print(\"\\n--- Recomendación Final ---\")\n",
        "\n",
        "# Aquí se inserta TU análisis y recomendación específicos:\n",
        "print(\"\"\"\n",
        "**Análisis Conclusivo**\n",
        "\n",
        "1.  **Facturación Total**\n",
        "    La facturación total por tienda es un indicador clave del desempeño financiero. Según los datos:\n",
        "    * Tienda 1: $1,150,880,000\n",
        "    * Tienda 2: $1,116,344,000\n",
        "    * Tienda 3: $1,098,020,000\n",
        "    * Tienda 4: $1,038,376,000\n",
        "    *Observación:* La Tienda 4 tiene la menor facturación, lo que sugiere un rendimiento financiero inferior en comparación con las demás tiendas.\n",
        "\n",
        "2.  **Ventas por Categoría (Cantidad)**\n",
        "    Las categorías más populares por tienda, basadas en el número de ventas, son:\n",
        "    * Tienda 1: Muebles (465), Electrónicos (448), Juguetes (324)\n",
        "    * Tienda 2: Muebles (442), Electrónicos (422), Juguetes (313)\n",
        "    * Tienda 3: Muebles (499), Electrónicos (451), Juguetes (315)\n",
        "    * Tienda 4: Muebles (480), Electrónicos (451), Juguetes (338)\n",
        "    *Observación:* Todas las tiendas tienen un desempeño similar en las categorías principales (Muebles, Electrónicos y Juguetes), pero la Tienda 4 no destaca particularmente, y su facturación más baja indica que, a pesar de un volumen de ventas decente, los productos vendidos podrían tener un menor valor promedio.\n",
        "\n",
        "3.  **Calificaciones Promedio**\n",
        "    Las calificaciones reflejan la satisfacción del cliente, un factor importante para la sostenibilidad a largo plazo:\n",
        "    * Tienda 3: 4.048326 (la mejor)\n",
        "    * Tienda 2: 4.037304\n",
        "    * Tienda 4: 3.995759\n",
        "    * Tienda 1: 3.976685 (la peor)\n",
        "    *Observación:* La Tienda 1 tiene la calificación más baja, lo que podría indicar problemas de satisfacción del cliente. La Tienda 4, aunque no tiene la peor calificación, está por debajo de las Tiendas 2 y 3, lo que no la posiciona como líder en experiencia del cliente.\n",
        "\n",
        "4.  **Productos Más y Menos Vendidos**\n",
        "    *Producto más vendido:*\n",
        "    * Tienda 1: Armario (60 ventas)\n",
        "    * Tienda 2: Iniciando en programación (65 ventas)\n",
        "    * Tienda 3: Kit de bancas (57 ventas)\n",
        "    * Tienda 4: Cama box (62 ventas)\n",
        "    *Producto menos vendido:*\n",
        "    * Tienda 1: Auriculares con micrófono (33 ventas)\n",
        "    * Tienda 2: Juego de mesa (32 ventas)\n",
        "    * Tienda 3: Bloques de construcción (35 ventas)\n",
        "    * Tienda 4: Guitarra eléctrica (33 ventas)\n",
        "    *Observación:* La Tienda 4 tiene un producto menos vendido (Guitarra eléctrica, 33 ventas) que refleja una debilidad en su oferta, pero su producto más vendido (Cama box) no compensa su baja facturación general.\n",
        "\n",
        "**Recomendación Final**\n",
        "\n",
        "Basado en el análisis, recomiendo vender la **Tienda 4**. A continuación, detallo las razones principales:\n",
        "\n",
        "* **Menor Facturación:** Con $1,038,376,000, la Tienda 4 genera significativamente menos ingresos que las demás, lo que indica un bajo desempeño financiero y una menor contribución al negocio global del Sr. Juan.\n",
        "* **Debilidad Competitiva:** Aunque tiene un volumen de ventas aceptable en categorías clave como Muebles y Electrónicos, su facturación sugiere que los productos vendidos tienen un valor promedio más bajo, lo que limita su rentabilidad.\n",
        "* **Optimización de Recursos:** La calificación promedio de la Tienda 4 (3.995759) no es la peor, pero tampoco sobresale. Venderla liberaría recursos que podrían reinvertirse en mejorar otras tiendas, como la Tienda 1, que tiene alta facturación pero problemas de satisfacción del cliente.\n",
        "\n",
        "**Consideraciones Adicionales:**\n",
        "* Tienda 1: A pesar de su calificación baja (3.976685), su facturación líder ($1,150,880,000) sugiere que sigue siendo rentable. Mejorar la experiencia del cliente podría maximizar su potencial.\n",
        "* Tienda 2 y 3: Ambas tienen facturación sólida y calificaciones superiores, lo que las hace más valiosas para mantener.\n",
        "\n",
        "Por lo tanto, la **Tienda 4** es la candidata más adecuada para la venta, ya que combina el menor rendimiento financiero con un desempeño promedio que no justifica su continuidad frente a las otras opciones.\n",
        "\n",
        "**Conclusión:** Vender la Tienda 4 permitiría al Sr. Juan enfocarse en optimizar las tiendas más rentables y abordar problemas específicos, como la satisfacción del cliente en la Tienda 1, para fortalecer su negocio a largo plazo.\n",
        "\"\"\")\n",
        "print(\"-\" * 50)\n",
        "print(\"Análisis completado.\")"
      ],
      "metadata": {
        "id": "S2JeaCykZNy9",
        "colab": {
          "base_uri": "https://localhost:8080/",
          "height": 1000
        },
        "outputId": "0c0b3239-abf6-4ca8-8c68-7ac12d811490"
      },
      "execution_count": 17,
      "outputs": [
        {
          "output_type": "stream",
          "name": "stdout",
          "text": [
            "\n",
            "--- Paso 6: Calculando Costo Promedio de Envío por Tienda ---\n",
            "Costo Promedio de Envío por Tienda:\n",
            "     Tienda  Costo de envío\n",
            "3  Tienda 4    23459.457167\n",
            "2  Tienda 3    24805.680373\n",
            "1  Tienda 2    25216.235693\n",
            "0  Tienda 1    26018.609580\n"
          ]
        },
        {
          "output_type": "stream",
          "name": "stderr",
          "text": [
            "<ipython-input-17-1ceed613cc0b>:14: FutureWarning: \n",
            "\n",
            "Passing `palette` without assigning `hue` is deprecated and will be removed in v0.14.0. Assign the `x` variable to `hue` and set `legend=False` for the same effect.\n",
            "\n",
            "  sns.barplot(x='Tienda', y='Costo de envío', data=costo_envio_promedio, palette='magma')\n"
          ]
        },
        {
          "output_type": "display_data",
          "data": {
            "text/plain": [
              "<Figure size 1000x600 with 1 Axes>"
            ],
            "image/png": "[encoded data removed]"
          },
          "metadata": {}
        },
        {
          "output_type": "stream",
          "name": "stdout",
          "text": [
            "--------------------------------------------------\n",
            "\n",
            "--- Paso 7: Creando Tabla Resumen para Recomendación ---\n",
            "Tabla Resumen de Métricas Clave por Tienda:\n",
            "     Tienda  Facturacion_Total  Calificacion_Promedio  Costo_Envio_Promedio\n",
            "0  Tienda 1       1.150880e+09               3.976685          26018.609580\n",
            "1  Tienda 2       1.116344e+09               4.037304          25216.235693\n",
            "2  Tienda 3       1.098020e+09               4.048326          24805.680373\n",
            "3  Tienda 4       1.038376e+09               3.995759          23459.457167\n",
            "--------------------------------------------------\n",
            "\n",
            "--- Recomendación Final ---\n",
            "\n",
            "**Análisis Conclusivo**\n",
            "\n",
            "1.  **Facturación Total**\n",
            "    La facturación total por tienda es un indicador clave del desempeño financiero. Según los datos:\n",
            "    * Tienda 1: $1,150,880,000\n",
            "    * Tienda 2: $1,116,344,000\n",
            "    * Tienda 3: $1,098,020,000\n",
            "    * Tienda 4: $1,038,376,000\n",
            "    *Observación:* La Tienda 4 tiene la menor facturación, lo que sugiere un rendimiento financiero inferior en comparación con las demás tiendas.\n",
            "\n",
            "2.  **Ventas por Categoría (Cantidad)**\n",
            "    Las categorías más populares por tienda, basadas en el número de ventas, son:\n",
            "    * Tienda 1: Muebles (465), Electrónicos (448), Juguetes (324)\n",
            "    * Tienda 2: Muebles (442), Electrónicos (422), Juguetes (313)\n",
            "    * Tienda 3: Muebles (499), Electrónicos (451), Juguetes (315)\n",
            "    * Tienda 4: Muebles (480), Electrónicos (451), Juguetes (338)\n",
            "    *Observación:* Todas las tiendas tienen un desempeño similar en las categorías principales (Muebles, Electrónicos y Juguetes), pero la Tienda 4 no destaca particularmente, y su facturación más baja indica que, a pesar de un volumen de ventas decente, los productos vendidos podrían tener un menor valor promedio.\n",
            "\n",
            "3.  **Calificaciones Promedio**\n",
            "    Las calificaciones reflejan la satisfacción del cliente, un factor importante para la sostenibilidad a largo plazo:\n",
            "    * Tienda 3: 4.048326 (la mejor)\n",
            "    * Tienda 2: 4.037304\n",
            "    * Tienda 4: 3.995759\n",
            "    * Tienda 1: 3.976685 (la peor)\n",
            "    *Observación:* La Tienda 1 tiene la calificación más baja, lo que podría indicar problemas de satisfacción del cliente. La Tienda 4, aunque no tiene la peor calificación, está por debajo de las Tiendas 2 y 3, lo que no la posiciona como líder en experiencia del cliente.\n",
            "\n",
            "4.  **Productos Más y Menos Vendidos**\n",
            "    *Producto más vendido:*\n",
            "    * Tienda 1: Armario (60 ventas)\n",
            "    * Tienda 2: Iniciando en programación (65 ventas)\n",
            "    * Tienda 3: Kit de bancas (57 ventas)\n",
            "    * Tienda 4: Cama box (62 ventas)\n",
            "    *Producto menos vendido:*\n",
            "    * Tienda 1: Auriculares con micrófono (33 ventas)\n",
            "    * Tienda 2: Juego de mesa (32 ventas)\n",
            "    * Tienda 3: Bloques de construcción (35 ventas)\n",
            "    * Tienda 4: Guitarra eléctrica (33 ventas)\n",
            "    *Observación:* La Tienda 4 tiene un producto menos vendido (Guitarra eléctrica, 33 ventas) que refleja una debilidad en su oferta, pero su producto más vendido (Cama box) no compensa su baja facturación general.\n",
            "\n",
            "**Recomendación Final**\n",
            "\n",
            "Basado en el análisis, recomiendo vender la **Tienda 4**. A continuación, detallo las razones principales:\n",
            "\n",
            "* **Menor Facturación:** Con $1,038,376,000, la Tienda 4 genera significativamente menos ingresos que las demás, lo que indica un bajo desempeño financiero y una menor contribución al negocio global del Sr. Juan.\n",
            "* **Debilidad Competitiva:** Aunque tiene un volumen de ventas aceptable en categorías clave como Muebles y Electrónicos, su facturación sugiere que los productos vendidos tienen un valor promedio más bajo, lo que limita su rentabilidad.\n",
            "* **Optimización de Recursos:** La calificación promedio de la Tienda 4 (3.995759) no es la peor, pero tampoco sobresale. Venderla liberaría recursos que podrían reinvertirse en mejorar otras tiendas, como la Tienda 1, que tiene alta facturación pero problemas de satisfacción del cliente.\n",
            "\n",
            "**Consideraciones Adicionales:**\n",
            "* Tienda 1: A pesar de su calificación baja (3.976685), su facturación líder ($1,150,880,000) sugiere que sigue siendo rentable. Mejorar la experiencia del cliente podría maximizar su potencial.\n",
            "* Tienda 2 y 3: Ambas tienen facturación sólida y calificaciones superiores, lo que las hace más valiosas para mantener.\n",
            "\n",
            "Por lo tanto, la **Tienda 4** es la candidata más adecuada para la venta, ya que combina el menor rendimiento financiero con un desempeño promedio que no justifica su continuidad frente a las otras opciones.\n",
            "\n",
            "**Conclusión:** Vender la Tienda 4 permitiría al Sr. Juan enfocarse en optimizar las tiendas más rentables y abordar problemas específicos, como la satisfacción del cliente en la Tienda 1, para fortalecer su negocio a largo plazo.\n",
            "\n",
            "--------------------------------------------------\n",
            "Análisis completado.\n"
          ]
        }
      ]
    },
    {
      "cell_type": "code",
      "source": [],
      "metadata": {
        "id": "0tSdCie9ZQlt"
      },
      "execution_count": null,
      "outputs": []
    }
  ]
}